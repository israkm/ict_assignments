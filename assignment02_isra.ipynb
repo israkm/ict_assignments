{
  "nbformat": 4,
  "nbformat_minor": 0,
  "metadata": {
    "colab": {
      "provenance": [],
      "authorship_tag": "ABX9TyM4OOUe6wAGDJp6wEi+LKBa",
      "include_colab_link": true
    },
    "kernelspec": {
      "name": "python3",
      "display_name": "Python 3"
    },
    "language_info": {
      "name": "python"
    }
  },
  "cells": [
    {
      "cell_type": "markdown",
      "metadata": {
        "id": "view-in-github",
        "colab_type": "text"
      },
      "source": [
        "<a href=\"https://colab.research.google.com/github/israkm/ict_assignments/blob/main/assignment02_isra.ipynb\" target=\"_parent\"><img src=\"https://colab.research.google.com/assets/colab-badge.svg\" alt=\"Open In Colab\"/></a>"
      ]
    },
    {
      "cell_type": "code",
      "execution_count": null,
      "metadata": {
        "id": "EeE93P5yBGlp"
      },
      "outputs": [],
      "source": []
    },
    {
      "cell_type": "markdown",
      "source": [
        "1 FizzBuzz"
      ],
      "metadata": {
        "id": "O7SO38f-BXdt"
      }
    },
    {
      "cell_type": "code",
      "source": [
        "for i in range(1, 10):\n",
        "  if i%3==0 and i%5==0:\n",
        "    print(\"FizzBuzz\")\n",
        "  elif i%3==0:\n",
        "    print(\"Fizz\")\n",
        "  elif i%5 ==0:\n",
        "    print(\"Buzz\")\n",
        "  else:\n",
        "    print(i)"
      ],
      "metadata": {
        "colab": {
          "base_uri": "https://localhost:8080/"
        },
        "id": "CW8Yu07kBov0",
        "outputId": "eb4f3850-e05e-49c6-d136-c14a81c1ad45"
      },
      "execution_count": 7,
      "outputs": [
        {
          "output_type": "stream",
          "name": "stdout",
          "text": [
            "1\n",
            "2\n",
            "Fizz\n",
            "4\n",
            "Buzz\n",
            "Fizz\n",
            "7\n",
            "8\n",
            "Fizz\n"
          ]
        }
      ]
    },
    {
      "cell_type": "markdown",
      "source": [
        "2 Electricity bill calculator"
      ],
      "metadata": {
        "id": "LPygJhD_FVO6"
      }
    },
    {
      "cell_type": "code",
      "source": [
        "units = int(input(\"Enter units consumed: \"))\n",
        "bill = 0\n",
        "if units <= 100:\n",
        "  bill = units * 5\n",
        "elif units <= 200:\n",
        "  bill = (100 * 5) + (units - 100) * 7\n",
        "else:\n",
        "  bill = (100 * 5) + (100 * 7) + (units - 200) * 10\n",
        "print(f\"Total Bill Amount: ₹{bill}\")"
      ],
      "metadata": {
        "colab": {
          "base_uri": "https://localhost:8080/"
        },
        "id": "5aZ4I7WKEZni",
        "outputId": "f5d6f09a-8933-49b0-b21b-c165c02d3c67"
      },
      "execution_count": 8,
      "outputs": [
        {
          "output_type": "stream",
          "name": "stdout",
          "text": [
            "Enter units consumed: 58\n",
            "Total Bill Amount: ₹290\n"
          ]
        }
      ]
    },
    {
      "cell_type": "markdown",
      "source": [
        "3 Display a pattern for a simple programs indicator"
      ],
      "metadata": {
        "id": "rufclwO2FzVh"
      }
    },
    {
      "cell_type": "code",
      "source": [
        "for i in range(1, 6):\n",
        "  print('*' * i)"
      ],
      "metadata": {
        "colab": {
          "base_uri": "https://localhost:8080/"
        },
        "id": "cNzLtqc0Freg",
        "outputId": "7cc9c190-49cb-498c-beed-acada5ee96d1"
      },
      "execution_count": 10,
      "outputs": [
        {
          "output_type": "stream",
          "name": "stdout",
          "text": [
            "*\n",
            "**\n",
            "***\n",
            "****\n",
            "*****\n"
          ]
        }
      ]
    },
    {
      "cell_type": "markdown",
      "source": [
        "4 Palindrome"
      ],
      "metadata": {
        "id": "xoCoxwocGhTR"
      }
    },
    {
      "cell_type": "code",
      "source": [
        "p = float(input(\"ener num/str to be checked:\"))\n",
        "p = str(p)\n",
        "rev = p[::-1]\n",
        "if p == rev:\n",
        "  print(\"given num/str is palindrome\")\n",
        "else:\n",
        "  print(\"given num/str is not palindrome\")\n",
        ""
      ],
      "metadata": {
        "colab": {
          "base_uri": "https://localhost:8080/"
        },
        "id": "r5dx0drIGX93",
        "outputId": "9cb225e5-aca3-4642-8ff4-36a02c2e28d4"
      },
      "execution_count": 14,
      "outputs": [
        {
          "output_type": "stream",
          "name": "stdout",
          "text": [
            "ener num/str to be checked:33\n",
            "given num/str is not palindrome\n"
          ]
        }
      ]
    },
    {
      "cell_type": "code",
      "source": [],
      "metadata": {
        "id": "ngbuJbetLXU7"
      },
      "execution_count": 13,
      "outputs": []
    }
  ]
}