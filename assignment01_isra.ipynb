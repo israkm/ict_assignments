{
  "nbformat": 4,
  "nbformat_minor": 0,
  "metadata": {
    "colab": {
      "provenance": [],
      "authorship_tag": "ABX9TyOBsN6gaRKCyOVWXBpZIdc2",
      "include_colab_link": true
    },
    "kernelspec": {
      "name": "python3",
      "display_name": "Python 3"
    },
    "language_info": {
      "name": "python"
    }
  },
  "cells": [
    {
      "cell_type": "markdown",
      "metadata": {
        "id": "view-in-github",
        "colab_type": "text"
      },
      "source": [
        "<a href=\"https://colab.research.google.com/github/israkm/ict_assignments/blob/main/assignment01_isra.ipynb\" target=\"_parent\"><img src=\"https://colab.research.google.com/assets/colab-badge.svg\" alt=\"Open In Colab\"/></a>"
      ]
    },
    {
      "cell_type": "code",
      "execution_count": null,
      "metadata": {
        "id": "O2Q_x050VV2B"
      },
      "outputs": [],
      "source": []
    },
    {
      "cell_type": "markdown",
      "source": [
        "1 Grocery billing"
      ],
      "metadata": {
        "id": "JGFRo8vjX7Kw"
      }
    },
    {
      "cell_type": "code",
      "source": [
        "Item1_price = int(input(\"Item1 price\"))\n",
        "Item1_quantity = int(input(\"Item1 quantity\"))\n",
        "Item2_price = int(input(\"Item2_price\"))\n",
        "Item2_quantity = int(input(\"Item2_quantity\"))\n",
        "total_Bill = (Item1_price*Item1_quantity)+(Item2_price*Item2_quantity)\n",
        "print(\"total Bill is:\", total_Bill)\n"
      ],
      "metadata": {
        "colab": {
          "base_uri": "https://localhost:8080/"
        },
        "id": "YXE0IoEZYdfw",
        "outputId": "d0be7916-3955-410c-8bce-048b37a9683b"
      },
      "execution_count": null,
      "outputs": [
        {
          "output_type": "stream",
          "name": "stdout",
          "text": [
            "Item1 price45\n",
            "Item1 quantity3\n",
            "Item2_price30\n",
            "Item2_quantity2\n",
            "total Bill is: 195\n"
          ]
        }
      ]
    },
    {
      "cell_type": "markdown",
      "source": [
        "2 Temperature conversion"
      ],
      "metadata": {
        "id": "MOUNZLnsg_Y2"
      }
    },
    {
      "cell_type": "code",
      "source": [
        "c = int(input(\"enter temp in celcius\"))\n",
        "f = (c*9/5)+32\n",
        "print(f)"
      ],
      "metadata": {
        "colab": {
          "base_uri": "https://localhost:8080/"
        },
        "id": "CteHagvmdKMk",
        "outputId": "acf6bb7e-2c72-4d2a-cdd5-b38f60a329d0"
      },
      "execution_count": null,
      "outputs": [
        {
          "output_type": "stream",
          "name": "stdout",
          "text": [
            "enter temp in celcius200\n",
            "392.0\n"
          ]
        }
      ]
    },
    {
      "cell_type": "markdown",
      "source": [
        "3 Salary slip"
      ],
      "metadata": {
        "id": "qwEsGulyiKvO"
      }
    },
    {
      "cell_type": "code",
      "source": [
        "\n",
        "salary = int(input(\"enter your salary:\"))\n",
        "salary_hra = salary*20/100 + salary\n",
        "salary_d = salary_hra*10/100 + salary\n",
        "print(salary_d)"
      ],
      "metadata": {
        "id": "qqotIMddh9Fm",
        "colab": {
          "base_uri": "https://localhost:8080/"
        },
        "outputId": "66bacfbe-b650-44a6-b941-6666db50196f"
      },
      "execution_count": 4,
      "outputs": [
        {
          "output_type": "stream",
          "name": "stdout",
          "text": [
            "enter your salary:50000\n",
            "56000.0\n"
          ]
        }
      ]
    },
    {
      "cell_type": "markdown",
      "source": [
        "4  Simple interest"
      ],
      "metadata": {
        "id": "o1JILmjT4o92"
      }
    },
    {
      "cell_type": "code",
      "source": [
        "\n",
        "print(\"interest calculator\")\n",
        "p = int(input(\"enter principal:\"))\n",
        "r = float(input(\"enter rate of interest\"))\n",
        "t = int(input(\"time(in years)\"))\n",
        "si = (p*r*t)/100\n",
        "print(si)"
      ],
      "metadata": {
        "colab": {
          "base_uri": "https://localhost:8080/"
        },
        "id": "l-8LZNZX4HjG",
        "outputId": "e7f2ed7a-e2e9-4716-d420-e2a664efbf46"
      },
      "execution_count": 2,
      "outputs": [
        {
          "output_type": "stream",
          "name": "stdout",
          "text": [
            "interest calculator\n",
            "enter principal:30000\n",
            "enter rate of interest5\n",
            "time(in years)2\n",
            "3000.0\n"
          ]
        }
      ]
    },
    {
      "cell_type": "markdown",
      "source": [
        "5 Time conversion"
      ],
      "metadata": {
        "id": "G0pq-1MZ5t2c"
      }
    },
    {
      "cell_type": "code",
      "source": [
        "\n",
        "print(\"Time conversion\")\n",
        "minutes = float(input(\"Enter total input:\"))\n",
        "hours = minutes/60\n",
        "print(hours)"
      ],
      "metadata": {
        "colab": {
          "base_uri": "https://localhost:8080/"
        },
        "id": "IsQ5nASF5XcN",
        "outputId": "04be9c2d-aeba-4e2b-f3d5-5e4106bfde1b"
      },
      "execution_count": 6,
      "outputs": [
        {
          "output_type": "stream",
          "name": "stdout",
          "text": [
            "Time conversion\n",
            "Enter total input:500\n",
            "8.333333333333334\n"
          ]
        }
      ]
    },
    {
      "cell_type": "markdown",
      "source": [
        "6 BMI calculator"
      ],
      "metadata": {
        "id": "A9bH7sCa8mCD"
      }
    },
    {
      "cell_type": "code",
      "source": [
        "print(\"BMI calculator\")\n",
        "w = float(input(\"enter the weight:\"))\n",
        "h = float(input(\"enter the height:\"))\n",
        "BMI = w/(h*h)\n",
        "print(\"BMI\",BMI)"
      ],
      "metadata": {
        "colab": {
          "base_uri": "https://localhost:8080/"
        },
        "id": "o6bvV1Su7IPz",
        "outputId": "04a094be-0925-47af-b106-2dd3d5300226"
      },
      "execution_count": 7,
      "outputs": [
        {
          "output_type": "stream",
          "name": "stdout",
          "text": [
            "BMI calculator\n",
            "enter the weight:40\n",
            "enter the height:1.45\n",
            "BMI 19.024970273483948\n"
          ]
        }
      ]
    },
    {
      "cell_type": "markdown",
      "source": [
        "7 Discount calculation"
      ],
      "metadata": {
        "id": "AJ8d5Liu_2Du"
      }
    },
    {
      "cell_type": "code",
      "source": [
        "print(\"discount calculation\")\n",
        "og_price = int(input(\"enter the original price:\"))\n",
        "dis_price = og_price - (10/100)\n",
        "print(\"discount price\",dis_price)"
      ],
      "metadata": {
        "colab": {
          "base_uri": "https://localhost:8080/"
        },
        "id": "ukEXmZFqAgh2",
        "outputId": "eb9bc51f-700b-46e2-d262-40a8bc3b8ba6"
      },
      "execution_count": 11,
      "outputs": [
        {
          "output_type": "stream",
          "name": "stdout",
          "text": [
            "discount calculation\n",
            "enter the original price:1300\n",
            "discount price 1299.9\n"
          ]
        }
      ]
    },
    {
      "cell_type": "markdown",
      "source": [
        "8 Area of a triangle"
      ],
      "metadata": {
        "id": "yIoBY9vkBpZV"
      }
    },
    {
      "cell_type": "code",
      "source": [
        "a = float(input(\"enter the side a\"))\n",
        "b = float(input(\"enter the side b\"))\n",
        "c = float(input(\"enter the side c\"))\n",
        "s = (a+b+c)/2\n",
        "area = (s*(s-a)*(s-b)*(s-c)**(0.5))\n",
        "print(f\"area of the triangle:{area:2f}\")"
      ],
      "metadata": {
        "colab": {
          "base_uri": "https://localhost:8080/"
        },
        "id": "8ZJkVyFNBdD1",
        "outputId": "fc46d086-5f32-462f-df90-2e72c4298e7f"
      },
      "execution_count": 12,
      "outputs": [
        {
          "output_type": "stream",
          "name": "stdout",
          "text": [
            "enter the side a5\n",
            "enter the side b7\n",
            "enter the side c9\n",
            "area of the triangle:247.551557\n"
          ]
        }
      ]
    },
    {
      "cell_type": "markdown",
      "source": [
        "9 Paint cost estimator"
      ],
      "metadata": {
        "id": "6U9srqMdFVpJ"
      }
    },
    {
      "cell_type": "code",
      "source": [
        "print(\"Paint Cost Estimator\")\n",
        "l = float(input(\"Enter length of the wall:\"))\n",
        "b = float(input(\"Enter breadth of the wall:\"))\n",
        "area = l * b\n",
        "area_w = 2*(1.5 * 1.2)\n",
        "paint = area - area_w\n",
        "print(paint,\"sq.m\")\n",
        "cost = paint * 25\n",
        "print(cost)"
      ],
      "metadata": {
        "colab": {
          "base_uri": "https://localhost:8080/"
        },
        "id": "LCY8oCwZGAPo",
        "outputId": "d2c4caeb-d1f9-44fb-f1b8-b2e6515d6dd4"
      },
      "execution_count": 14,
      "outputs": [
        {
          "output_type": "stream",
          "name": "stdout",
          "text": [
            "Paint Cost Estimator\n",
            "Enter length of the wall:14\n",
            "Enter breadth of the wall:8\n",
            "108.4 sq.m\n",
            "2710.0\n"
          ]
        }
      ]
    },
    {
      "cell_type": "markdown",
      "source": [
        "10 Electricity bill calculator"
      ],
      "metadata": {
        "id": "kPtotP7LRo2d"
      }
    },
    {
      "cell_type": "code",
      "source": [
        "units = float(input(\"Enter number of units consumed: \"))\n",
        "rate_per_unit = 5.2\n",
        "fixed_charge = 100\n",
        "bill = (units*rate_per_unit)+fixed_charge\n",
        "print(f\"Electricity Bill: ₹{bill:.1f}\")"
      ],
      "metadata": {
        "colab": {
          "base_uri": "https://localhost:8080/"
        },
        "id": "Q6zAigjYRh89",
        "outputId": "61957c0e-94ba-4895-a2d3-82be7200f412"
      },
      "execution_count": 15,
      "outputs": [
        {
          "output_type": "stream",
          "name": "stdout",
          "text": [
            "Enter number of units consumed: 250\n",
            "Electricity Bill: ₹1400.0\n"
          ]
        }
      ]
    },
    {
      "cell_type": "code",
      "source": [],
      "metadata": {
        "id": "W0SMYDrwTx2r"
      },
      "execution_count": null,
      "outputs": []
    }
  ]
}